{
 "cells": [
  {
   "cell_type": "code",
   "execution_count": 1,
   "id": "efb40a29",
   "metadata": {},
   "outputs": [],
   "source": [
    "import pandas as pd\n",
    "import matplotlib.pyplot as plt\n",
    "import seaborn as sns\n",
    "import numpy as np\n",
    "\n",
    "%matplotlib inline"
   ]
  },
  {
   "cell_type": "code",
   "execution_count": 2,
   "id": "faeb6d83",
   "metadata": {},
   "outputs": [
    {
     "data": {
      "text/html": [
       "<style>\n",
       "table {float:left}\n",
       "</style>\n"
      ],
      "text/plain": [
       "<IPython.core.display.HTML object>"
      ]
     },
     "metadata": {},
     "output_type": "display_data"
    }
   ],
   "source": [
    "%%html\n",
    "<style>\n",
    "table {float:left}\n",
    "</style>"
   ]
  },
  {
   "cell_type": "markdown",
   "id": "7d265c2a",
   "metadata": {},
   "source": [
    "![purple-divider](https://user-images.githubusercontent.com/7065401/52071927-c1cd7100-2562-11e9-908a-dde91ba14e59.png)\n",
    "### Loading our data\n",
    "\n",
    "---"
   ]
  },
  {
   "cell_type": "code",
   "execution_count": 3,
   "id": "af054910",
   "metadata": {
    "scrolled": true
   },
   "outputs": [
    {
     "data": {
      "text/html": [
       "<div>\n",
       "<style scoped>\n",
       "    .dataframe tbody tr th:only-of-type {\n",
       "        vertical-align: middle;\n",
       "    }\n",
       "\n",
       "    .dataframe tbody tr th {\n",
       "        vertical-align: top;\n",
       "    }\n",
       "\n",
       "    .dataframe thead th {\n",
       "        text-align: right;\n",
       "    }\n",
       "</style>\n",
       "<table border=\"1\" class=\"dataframe\">\n",
       "  <thead>\n",
       "    <tr style=\"text-align: right;\">\n",
       "      <th></th>\n",
       "      <th>SK_ID_CURR</th>\n",
       "      <th>Unnamed: 1</th>\n",
       "      <th>NAME_CONTRACT_TYPE</th>\n",
       "      <th>CODE_GENDER</th>\n",
       "      <th>FLAG_OWN_CAR</th>\n",
       "      <th>FLAG_OWN_REALTY</th>\n",
       "      <th>CNT_CHILDREN</th>\n",
       "      <th>AMT_INCOME_TOTAL</th>\n",
       "      <th>AMT_CREDIT</th>\n",
       "      <th>AMT_ANNUITY</th>\n",
       "      <th>...</th>\n",
       "      <th>OCCUPATION_TYPE</th>\n",
       "      <th>CNT_FAM_MEMBERS</th>\n",
       "      <th>REG_REGION_NOT_LIVE_REGION</th>\n",
       "      <th>REG_REGION_NOT_WORK_REGION</th>\n",
       "      <th>LIVE_REGION_NOT_WORK_REGION</th>\n",
       "      <th>REG_CITY_NOT_LIVE_CITY</th>\n",
       "      <th>REG_CITY_NOT_WORK_CITY</th>\n",
       "      <th>LIVE_CITY_NOT_WORK_CITY</th>\n",
       "      <th>ORGANIZATION_TYPE</th>\n",
       "      <th>TARGET</th>\n",
       "    </tr>\n",
       "  </thead>\n",
       "  <tbody>\n",
       "    <tr>\n",
       "      <th>0</th>\n",
       "      <td>100002</td>\n",
       "      <td>NaN</td>\n",
       "      <td>Cash loans</td>\n",
       "      <td>M</td>\n",
       "      <td>N</td>\n",
       "      <td>Y</td>\n",
       "      <td>0</td>\n",
       "      <td>202500.0</td>\n",
       "      <td>406597.5</td>\n",
       "      <td>24700.5</td>\n",
       "      <td>...</td>\n",
       "      <td>Laborers</td>\n",
       "      <td>1.0</td>\n",
       "      <td>0</td>\n",
       "      <td>0</td>\n",
       "      <td>0</td>\n",
       "      <td>0</td>\n",
       "      <td>0</td>\n",
       "      <td>0</td>\n",
       "      <td>Business Entity Type 3</td>\n",
       "      <td>1</td>\n",
       "    </tr>\n",
       "    <tr>\n",
       "      <th>1</th>\n",
       "      <td>100003</td>\n",
       "      <td>NaN</td>\n",
       "      <td>Cash loans</td>\n",
       "      <td>F</td>\n",
       "      <td>N</td>\n",
       "      <td>N</td>\n",
       "      <td>0</td>\n",
       "      <td>270000.0</td>\n",
       "      <td>1293502.5</td>\n",
       "      <td>35698.5</td>\n",
       "      <td>...</td>\n",
       "      <td>Core staff</td>\n",
       "      <td>2.0</td>\n",
       "      <td>0</td>\n",
       "      <td>0</td>\n",
       "      <td>0</td>\n",
       "      <td>0</td>\n",
       "      <td>0</td>\n",
       "      <td>0</td>\n",
       "      <td>School</td>\n",
       "      <td>0</td>\n",
       "    </tr>\n",
       "    <tr>\n",
       "      <th>2</th>\n",
       "      <td>100004</td>\n",
       "      <td>NaN</td>\n",
       "      <td>Revolving loans</td>\n",
       "      <td>M</td>\n",
       "      <td>Y</td>\n",
       "      <td>Y</td>\n",
       "      <td>0</td>\n",
       "      <td>67500.0</td>\n",
       "      <td>135000.0</td>\n",
       "      <td>6750.0</td>\n",
       "      <td>...</td>\n",
       "      <td>Laborers</td>\n",
       "      <td>1.0</td>\n",
       "      <td>0</td>\n",
       "      <td>0</td>\n",
       "      <td>0</td>\n",
       "      <td>0</td>\n",
       "      <td>0</td>\n",
       "      <td>0</td>\n",
       "      <td>Government</td>\n",
       "      <td>0</td>\n",
       "    </tr>\n",
       "    <tr>\n",
       "      <th>3</th>\n",
       "      <td>100006</td>\n",
       "      <td>NaN</td>\n",
       "      <td>Cash loans</td>\n",
       "      <td>F</td>\n",
       "      <td>N</td>\n",
       "      <td>Y</td>\n",
       "      <td>0</td>\n",
       "      <td>135000.0</td>\n",
       "      <td>312682.5</td>\n",
       "      <td>29686.5</td>\n",
       "      <td>...</td>\n",
       "      <td>Laborers</td>\n",
       "      <td>2.0</td>\n",
       "      <td>0</td>\n",
       "      <td>0</td>\n",
       "      <td>0</td>\n",
       "      <td>0</td>\n",
       "      <td>0</td>\n",
       "      <td>0</td>\n",
       "      <td>Business Entity Type 3</td>\n",
       "      <td>0</td>\n",
       "    </tr>\n",
       "    <tr>\n",
       "      <th>4</th>\n",
       "      <td>100007</td>\n",
       "      <td>NaN</td>\n",
       "      <td>Cash loans</td>\n",
       "      <td>M</td>\n",
       "      <td>N</td>\n",
       "      <td>Y</td>\n",
       "      <td>0</td>\n",
       "      <td>121500.0</td>\n",
       "      <td>513000.0</td>\n",
       "      <td>21865.5</td>\n",
       "      <td>...</td>\n",
       "      <td>Core staff</td>\n",
       "      <td>1.0</td>\n",
       "      <td>0</td>\n",
       "      <td>0</td>\n",
       "      <td>0</td>\n",
       "      <td>0</td>\n",
       "      <td>1</td>\n",
       "      <td>1</td>\n",
       "      <td>Religion</td>\n",
       "      <td>0</td>\n",
       "    </tr>\n",
       "  </tbody>\n",
       "</table>\n",
       "<p>5 rows × 37 columns</p>\n",
       "</div>"
      ],
      "text/plain": [
       "   SK_ID_CURR  Unnamed: 1 NAME_CONTRACT_TYPE CODE_GENDER FLAG_OWN_CAR  \\\n",
       "0      100002         NaN         Cash loans           M            N   \n",
       "1      100003         NaN         Cash loans           F            N   \n",
       "2      100004         NaN    Revolving loans           M            Y   \n",
       "3      100006         NaN         Cash loans           F            N   \n",
       "4      100007         NaN         Cash loans           M            N   \n",
       "\n",
       "  FLAG_OWN_REALTY  CNT_CHILDREN  AMT_INCOME_TOTAL  AMT_CREDIT  AMT_ANNUITY  \\\n",
       "0               Y             0          202500.0    406597.5      24700.5   \n",
       "1               N             0          270000.0   1293502.5      35698.5   \n",
       "2               Y             0           67500.0    135000.0       6750.0   \n",
       "3               Y             0          135000.0    312682.5      29686.5   \n",
       "4               Y             0          121500.0    513000.0      21865.5   \n",
       "\n",
       "   ...  OCCUPATION_TYPE CNT_FAM_MEMBERS REG_REGION_NOT_LIVE_REGION  \\\n",
       "0  ...         Laborers             1.0                          0   \n",
       "1  ...       Core staff             2.0                          0   \n",
       "2  ...         Laborers             1.0                          0   \n",
       "3  ...         Laborers             2.0                          0   \n",
       "4  ...       Core staff             1.0                          0   \n",
       "\n",
       "  REG_REGION_NOT_WORK_REGION LIVE_REGION_NOT_WORK_REGION  \\\n",
       "0                          0                           0   \n",
       "1                          0                           0   \n",
       "2                          0                           0   \n",
       "3                          0                           0   \n",
       "4                          0                           0   \n",
       "\n",
       "  REG_CITY_NOT_LIVE_CITY  REG_CITY_NOT_WORK_CITY  LIVE_CITY_NOT_WORK_CITY  \\\n",
       "0                      0                       0                        0   \n",
       "1                      0                       0                        0   \n",
       "2                      0                       0                        0   \n",
       "3                      0                       0                        0   \n",
       "4                      0                       1                        1   \n",
       "\n",
       "        ORGANIZATION_TYPE  TARGET  \n",
       "0  Business Entity Type 3       1  \n",
       "1                  School       0  \n",
       "2              Government       0  \n",
       "3  Business Entity Type 3       0  \n",
       "4                Religion       0  \n",
       "\n",
       "[5 rows x 37 columns]"
      ]
     },
     "execution_count": 3,
     "metadata": {},
     "output_type": "execute_result"
    }
   ],
   "source": [
    "df = pd.read_csv ('application_train.csv')\n",
    "df.head()"
   ]
  },
  {
   "cell_type": "markdown",
   "id": "d05c27f4",
   "metadata": {},
   "source": [
    "### Let's look at which columns have null values\n",
    "\n",
    "---"
   ]
  },
  {
   "cell_type": "code",
   "execution_count": 4,
   "id": "8c1cf606",
   "metadata": {},
   "outputs": [
    {
     "data": {
      "text/plain": [
       "SK_ID_CURR                     False\n",
       "Unnamed: 1                      True\n",
       "NAME_CONTRACT_TYPE             False\n",
       "CODE_GENDER                    False\n",
       "FLAG_OWN_CAR                   False\n",
       "FLAG_OWN_REALTY                False\n",
       "CNT_CHILDREN                   False\n",
       "AMT_INCOME_TOTAL               False\n",
       "AMT_CREDIT                     False\n",
       "AMT_ANNUITY                     True\n",
       "AMT_GOODS_PRICE                 True\n",
       "NAME_TYPE_SUITE                 True\n",
       "NAME_INCOME_TYPE               False\n",
       "NAME_EDUCATION_TYPE            False\n",
       "NAME_FAMILY_STATUS             False\n",
       "NAME_HOUSING_TYPE              False\n",
       "DAYS_BIRTH                     False\n",
       "DAYS_EMPLOYED                  False\n",
       "DAYS_REGISTRATION              False\n",
       "DAYS_ID_PUBLISH                False\n",
       "OWN_CAR_AGE                     True\n",
       "FLAG_MOBIL                     False\n",
       "FLAG_EMP_PHONE                 False\n",
       "FLAG_WORK_PHONE                False\n",
       "FLAG_CONT_MOBILE               False\n",
       "FLAG_PHONE                     False\n",
       "FLAG_EMAIL                     False\n",
       "OCCUPATION_TYPE                 True\n",
       "CNT_FAM_MEMBERS                 True\n",
       "REG_REGION_NOT_LIVE_REGION     False\n",
       "REG_REGION_NOT_WORK_REGION     False\n",
       "LIVE_REGION_NOT_WORK_REGION    False\n",
       "REG_CITY_NOT_LIVE_CITY         False\n",
       "REG_CITY_NOT_WORK_CITY         False\n",
       "LIVE_CITY_NOT_WORK_CITY        False\n",
       "ORGANIZATION_TYPE              False\n",
       "TARGET                         False\n",
       "dtype: bool"
      ]
     },
     "execution_count": 4,
     "metadata": {},
     "output_type": "execute_result"
    }
   ],
   "source": [
    "#check which columns have null values\n",
    "df.isnull().any()"
   ]
  },
  {
   "cell_type": "markdown",
   "id": "cf835d9c",
   "metadata": {},
   "source": [
    "### Number of null values in each column\n",
    "\n",
    "---"
   ]
  },
  {
   "cell_type": "code",
   "execution_count": 5,
   "id": "fa0709a2",
   "metadata": {},
   "outputs": [
    {
     "data": {
      "text/plain": [
       "SK_ID_CURR                          0\n",
       "Unnamed: 1                     307511\n",
       "NAME_CONTRACT_TYPE                  0\n",
       "CODE_GENDER                         0\n",
       "FLAG_OWN_CAR                        0\n",
       "FLAG_OWN_REALTY                     0\n",
       "CNT_CHILDREN                        0\n",
       "AMT_INCOME_TOTAL                    0\n",
       "AMT_CREDIT                          0\n",
       "AMT_ANNUITY                        12\n",
       "AMT_GOODS_PRICE                   278\n",
       "NAME_TYPE_SUITE                  1292\n",
       "NAME_INCOME_TYPE                    0\n",
       "NAME_EDUCATION_TYPE                 0\n",
       "NAME_FAMILY_STATUS                  0\n",
       "NAME_HOUSING_TYPE                   0\n",
       "DAYS_BIRTH                          0\n",
       "DAYS_EMPLOYED                       0\n",
       "DAYS_REGISTRATION                   0\n",
       "DAYS_ID_PUBLISH                     0\n",
       "OWN_CAR_AGE                    202929\n",
       "FLAG_MOBIL                          0\n",
       "FLAG_EMP_PHONE                      0\n",
       "FLAG_WORK_PHONE                     0\n",
       "FLAG_CONT_MOBILE                    0\n",
       "FLAG_PHONE                          0\n",
       "FLAG_EMAIL                          0\n",
       "OCCUPATION_TYPE                 96391\n",
       "CNT_FAM_MEMBERS                     2\n",
       "REG_REGION_NOT_LIVE_REGION          0\n",
       "REG_REGION_NOT_WORK_REGION          0\n",
       "LIVE_REGION_NOT_WORK_REGION         0\n",
       "REG_CITY_NOT_LIVE_CITY              0\n",
       "REG_CITY_NOT_WORK_CITY              0\n",
       "LIVE_CITY_NOT_WORK_CITY             0\n",
       "ORGANIZATION_TYPE                   0\n",
       "TARGET                              0\n",
       "dtype: int64"
      ]
     },
     "execution_count": 5,
     "metadata": {},
     "output_type": "execute_result"
    }
   ],
   "source": [
    "#check how many null values in each column\n",
    "df.isnull().sum()"
   ]
  },
  {
   "cell_type": "markdown",
   "id": "4a7ac67c",
   "metadata": {},
   "source": [
    "![purple-divider](https://user-images.githubusercontent.com/7065401/52071927-c1cd7100-2562-11e9-908a-dde91ba14e59.png)\n",
    "\n",
    "### Let's examine the columns with nulls more closely"
   ]
  },
  {
   "cell_type": "markdown",
   "id": "4367a9c7",
   "metadata": {},
   "source": [
    "**AMT_ANNUITY** <br>\n",
    "\n",
    "---\n",
    "Loan annuity"
   ]
  },
  {
   "cell_type": "code",
   "execution_count": 6,
   "id": "dab61f0c",
   "metadata": {},
   "outputs": [
    {
     "data": {
      "text/plain": [
       "count    307499.000000\n",
       "mean      27108.573909\n",
       "std       14493.737315\n",
       "min        1615.500000\n",
       "25%       16524.000000\n",
       "50%       24903.000000\n",
       "75%       34596.000000\n",
       "max      258025.500000\n",
       "Name: AMT_ANNUITY, dtype: float64"
      ]
     },
     "execution_count": 6,
     "metadata": {},
     "output_type": "execute_result"
    }
   ],
   "source": [
    "df['AMT_ANNUITY'].describe()"
   ]
  },
  {
   "cell_type": "markdown",
   "id": "0d326246",
   "metadata": {},
   "source": [
    "**AMT_GOODS_PRICE** <br>\n",
    "\n",
    "---\n",
    "For consumer loans it is the price of the goods for which the loan is given"
   ]
  },
  {
   "cell_type": "code",
   "execution_count": 7,
   "id": "4a80d0a9",
   "metadata": {},
   "outputs": [
    {
     "data": {
      "text/plain": [
       "count    3.072330e+05\n",
       "mean     5.383962e+05\n",
       "std      3.694465e+05\n",
       "min      4.050000e+04\n",
       "25%      2.385000e+05\n",
       "50%      4.500000e+05\n",
       "75%      6.795000e+05\n",
       "max      4.050000e+06\n",
       "Name: AMT_GOODS_PRICE, dtype: float64"
      ]
     },
     "execution_count": 7,
     "metadata": {},
     "output_type": "execute_result"
    }
   ],
   "source": [
    "df['AMT_GOODS_PRICE'].describe()"
   ]
  },
  {
   "cell_type": "code",
   "execution_count": 8,
   "id": "7f6a4d00",
   "metadata": {},
   "outputs": [
    {
     "data": {
      "text/html": [
       "<div>\n",
       "<style scoped>\n",
       "    .dataframe tbody tr th:only-of-type {\n",
       "        vertical-align: middle;\n",
       "    }\n",
       "\n",
       "    .dataframe tbody tr th {\n",
       "        vertical-align: top;\n",
       "    }\n",
       "\n",
       "    .dataframe thead th {\n",
       "        text-align: right;\n",
       "    }\n",
       "</style>\n",
       "<table border=\"1\" class=\"dataframe\">\n",
       "  <thead>\n",
       "    <tr style=\"text-align: right;\">\n",
       "      <th></th>\n",
       "      <th>SK_ID_CURR</th>\n",
       "      <th>Unnamed: 1</th>\n",
       "      <th>NAME_CONTRACT_TYPE</th>\n",
       "      <th>CODE_GENDER</th>\n",
       "      <th>FLAG_OWN_CAR</th>\n",
       "      <th>FLAG_OWN_REALTY</th>\n",
       "      <th>CNT_CHILDREN</th>\n",
       "      <th>AMT_INCOME_TOTAL</th>\n",
       "      <th>AMT_CREDIT</th>\n",
       "      <th>AMT_ANNUITY</th>\n",
       "      <th>...</th>\n",
       "      <th>OCCUPATION_TYPE</th>\n",
       "      <th>CNT_FAM_MEMBERS</th>\n",
       "      <th>REG_REGION_NOT_LIVE_REGION</th>\n",
       "      <th>REG_REGION_NOT_WORK_REGION</th>\n",
       "      <th>LIVE_REGION_NOT_WORK_REGION</th>\n",
       "      <th>REG_CITY_NOT_LIVE_CITY</th>\n",
       "      <th>REG_CITY_NOT_WORK_CITY</th>\n",
       "      <th>LIVE_CITY_NOT_WORK_CITY</th>\n",
       "      <th>ORGANIZATION_TYPE</th>\n",
       "      <th>TARGET</th>\n",
       "    </tr>\n",
       "  </thead>\n",
       "  <tbody>\n",
       "    <tr>\n",
       "      <th>724</th>\n",
       "      <td>100837</td>\n",
       "      <td>NaN</td>\n",
       "      <td>Revolving loans</td>\n",
       "      <td>F</td>\n",
       "      <td>N</td>\n",
       "      <td>Y</td>\n",
       "      <td>2</td>\n",
       "      <td>45000.0</td>\n",
       "      <td>135000.0</td>\n",
       "      <td>6750.0</td>\n",
       "      <td>...</td>\n",
       "      <td>Core staff</td>\n",
       "      <td>4.0</td>\n",
       "      <td>0</td>\n",
       "      <td>0</td>\n",
       "      <td>0</td>\n",
       "      <td>0</td>\n",
       "      <td>0</td>\n",
       "      <td>0</td>\n",
       "      <td>Kindergarten</td>\n",
       "      <td>0</td>\n",
       "    </tr>\n",
       "    <tr>\n",
       "      <th>5937</th>\n",
       "      <td>106955</td>\n",
       "      <td>NaN</td>\n",
       "      <td>Revolving loans</td>\n",
       "      <td>F</td>\n",
       "      <td>N</td>\n",
       "      <td>N</td>\n",
       "      <td>0</td>\n",
       "      <td>157500.0</td>\n",
       "      <td>450000.0</td>\n",
       "      <td>22500.0</td>\n",
       "      <td>...</td>\n",
       "      <td>Private service staff</td>\n",
       "      <td>2.0</td>\n",
       "      <td>0</td>\n",
       "      <td>0</td>\n",
       "      <td>0</td>\n",
       "      <td>0</td>\n",
       "      <td>0</td>\n",
       "      <td>0</td>\n",
       "      <td>Business Entity Type 3</td>\n",
       "      <td>0</td>\n",
       "    </tr>\n",
       "    <tr>\n",
       "      <th>6425</th>\n",
       "      <td>107494</td>\n",
       "      <td>NaN</td>\n",
       "      <td>Revolving loans</td>\n",
       "      <td>F</td>\n",
       "      <td>N</td>\n",
       "      <td>N</td>\n",
       "      <td>0</td>\n",
       "      <td>67500.0</td>\n",
       "      <td>202500.0</td>\n",
       "      <td>10125.0</td>\n",
       "      <td>...</td>\n",
       "      <td>Accountants</td>\n",
       "      <td>2.0</td>\n",
       "      <td>0</td>\n",
       "      <td>0</td>\n",
       "      <td>0</td>\n",
       "      <td>0</td>\n",
       "      <td>0</td>\n",
       "      <td>0</td>\n",
       "      <td>Trade: type 7</td>\n",
       "      <td>0</td>\n",
       "    </tr>\n",
       "    <tr>\n",
       "      <th>6703</th>\n",
       "      <td>107822</td>\n",
       "      <td>NaN</td>\n",
       "      <td>Revolving loans</td>\n",
       "      <td>F</td>\n",
       "      <td>N</td>\n",
       "      <td>N</td>\n",
       "      <td>1</td>\n",
       "      <td>121500.0</td>\n",
       "      <td>180000.0</td>\n",
       "      <td>9000.0</td>\n",
       "      <td>...</td>\n",
       "      <td>Managers</td>\n",
       "      <td>3.0</td>\n",
       "      <td>0</td>\n",
       "      <td>0</td>\n",
       "      <td>0</td>\n",
       "      <td>0</td>\n",
       "      <td>0</td>\n",
       "      <td>0</td>\n",
       "      <td>Government</td>\n",
       "      <td>0</td>\n",
       "    </tr>\n",
       "    <tr>\n",
       "      <th>7647</th>\n",
       "      <td>108913</td>\n",
       "      <td>NaN</td>\n",
       "      <td>Revolving loans</td>\n",
       "      <td>M</td>\n",
       "      <td>N</td>\n",
       "      <td>Y</td>\n",
       "      <td>0</td>\n",
       "      <td>180000.0</td>\n",
       "      <td>450000.0</td>\n",
       "      <td>22500.0</td>\n",
       "      <td>...</td>\n",
       "      <td>Security staff</td>\n",
       "      <td>1.0</td>\n",
       "      <td>0</td>\n",
       "      <td>0</td>\n",
       "      <td>0</td>\n",
       "      <td>0</td>\n",
       "      <td>0</td>\n",
       "      <td>0</td>\n",
       "      <td>Construction</td>\n",
       "      <td>0</td>\n",
       "    </tr>\n",
       "    <tr>\n",
       "      <th>...</th>\n",
       "      <td>...</td>\n",
       "      <td>...</td>\n",
       "      <td>...</td>\n",
       "      <td>...</td>\n",
       "      <td>...</td>\n",
       "      <td>...</td>\n",
       "      <td>...</td>\n",
       "      <td>...</td>\n",
       "      <td>...</td>\n",
       "      <td>...</td>\n",
       "      <td>...</td>\n",
       "      <td>...</td>\n",
       "      <td>...</td>\n",
       "      <td>...</td>\n",
       "      <td>...</td>\n",
       "      <td>...</td>\n",
       "      <td>...</td>\n",
       "      <td>...</td>\n",
       "      <td>...</td>\n",
       "      <td>...</td>\n",
       "      <td>...</td>\n",
       "    </tr>\n",
       "    <tr>\n",
       "      <th>304678</th>\n",
       "      <td>452992</td>\n",
       "      <td>NaN</td>\n",
       "      <td>Revolving loans</td>\n",
       "      <td>F</td>\n",
       "      <td>N</td>\n",
       "      <td>Y</td>\n",
       "      <td>2</td>\n",
       "      <td>67500.0</td>\n",
       "      <td>202500.0</td>\n",
       "      <td>10125.0</td>\n",
       "      <td>...</td>\n",
       "      <td>Sales staff</td>\n",
       "      <td>4.0</td>\n",
       "      <td>0</td>\n",
       "      <td>0</td>\n",
       "      <td>0</td>\n",
       "      <td>1</td>\n",
       "      <td>0</td>\n",
       "      <td>1</td>\n",
       "      <td>Business Entity Type 3</td>\n",
       "      <td>0</td>\n",
       "    </tr>\n",
       "    <tr>\n",
       "      <th>304784</th>\n",
       "      <td>453120</td>\n",
       "      <td>NaN</td>\n",
       "      <td>Revolving loans</td>\n",
       "      <td>M</td>\n",
       "      <td>N</td>\n",
       "      <td>Y</td>\n",
       "      <td>1</td>\n",
       "      <td>112500.0</td>\n",
       "      <td>270000.0</td>\n",
       "      <td>13500.0</td>\n",
       "      <td>...</td>\n",
       "      <td>Drivers</td>\n",
       "      <td>3.0</td>\n",
       "      <td>0</td>\n",
       "      <td>0</td>\n",
       "      <td>0</td>\n",
       "      <td>1</td>\n",
       "      <td>1</td>\n",
       "      <td>1</td>\n",
       "      <td>Self-employed</td>\n",
       "      <td>0</td>\n",
       "    </tr>\n",
       "    <tr>\n",
       "      <th>305833</th>\n",
       "      <td>454341</td>\n",
       "      <td>NaN</td>\n",
       "      <td>Revolving loans</td>\n",
       "      <td>F</td>\n",
       "      <td>N</td>\n",
       "      <td>Y</td>\n",
       "      <td>0</td>\n",
       "      <td>126000.0</td>\n",
       "      <td>270000.0</td>\n",
       "      <td>13500.0</td>\n",
       "      <td>...</td>\n",
       "      <td>Core staff</td>\n",
       "      <td>1.0</td>\n",
       "      <td>0</td>\n",
       "      <td>0</td>\n",
       "      <td>0</td>\n",
       "      <td>0</td>\n",
       "      <td>0</td>\n",
       "      <td>0</td>\n",
       "      <td>Self-employed</td>\n",
       "      <td>0</td>\n",
       "    </tr>\n",
       "    <tr>\n",
       "      <th>306126</th>\n",
       "      <td>454683</td>\n",
       "      <td>NaN</td>\n",
       "      <td>Revolving loans</td>\n",
       "      <td>M</td>\n",
       "      <td>N</td>\n",
       "      <td>Y</td>\n",
       "      <td>0</td>\n",
       "      <td>135000.0</td>\n",
       "      <td>270000.0</td>\n",
       "      <td>13500.0</td>\n",
       "      <td>...</td>\n",
       "      <td>NaN</td>\n",
       "      <td>2.0</td>\n",
       "      <td>0</td>\n",
       "      <td>1</td>\n",
       "      <td>1</td>\n",
       "      <td>0</td>\n",
       "      <td>1</td>\n",
       "      <td>1</td>\n",
       "      <td>Security</td>\n",
       "      <td>0</td>\n",
       "    </tr>\n",
       "    <tr>\n",
       "      <th>306273</th>\n",
       "      <td>454852</td>\n",
       "      <td>NaN</td>\n",
       "      <td>Revolving loans</td>\n",
       "      <td>M</td>\n",
       "      <td>N</td>\n",
       "      <td>Y</td>\n",
       "      <td>2</td>\n",
       "      <td>67500.0</td>\n",
       "      <td>202500.0</td>\n",
       "      <td>10125.0</td>\n",
       "      <td>...</td>\n",
       "      <td>Laborers</td>\n",
       "      <td>4.0</td>\n",
       "      <td>0</td>\n",
       "      <td>0</td>\n",
       "      <td>0</td>\n",
       "      <td>0</td>\n",
       "      <td>0</td>\n",
       "      <td>0</td>\n",
       "      <td>Self-employed</td>\n",
       "      <td>0</td>\n",
       "    </tr>\n",
       "  </tbody>\n",
       "</table>\n",
       "<p>278 rows × 37 columns</p>\n",
       "</div>"
      ],
      "text/plain": [
       "        SK_ID_CURR  Unnamed: 1 NAME_CONTRACT_TYPE CODE_GENDER FLAG_OWN_CAR  \\\n",
       "724         100837         NaN    Revolving loans           F            N   \n",
       "5937        106955         NaN    Revolving loans           F            N   \n",
       "6425        107494         NaN    Revolving loans           F            N   \n",
       "6703        107822         NaN    Revolving loans           F            N   \n",
       "7647        108913         NaN    Revolving loans           M            N   \n",
       "...            ...         ...                ...         ...          ...   \n",
       "304678      452992         NaN    Revolving loans           F            N   \n",
       "304784      453120         NaN    Revolving loans           M            N   \n",
       "305833      454341         NaN    Revolving loans           F            N   \n",
       "306126      454683         NaN    Revolving loans           M            N   \n",
       "306273      454852         NaN    Revolving loans           M            N   \n",
       "\n",
       "       FLAG_OWN_REALTY  CNT_CHILDREN  AMT_INCOME_TOTAL  AMT_CREDIT  \\\n",
       "724                  Y             2           45000.0    135000.0   \n",
       "5937                 N             0          157500.0    450000.0   \n",
       "6425                 N             0           67500.0    202500.0   \n",
       "6703                 N             1          121500.0    180000.0   \n",
       "7647                 Y             0          180000.0    450000.0   \n",
       "...                ...           ...               ...         ...   \n",
       "304678               Y             2           67500.0    202500.0   \n",
       "304784               Y             1          112500.0    270000.0   \n",
       "305833               Y             0          126000.0    270000.0   \n",
       "306126               Y             0          135000.0    270000.0   \n",
       "306273               Y             2           67500.0    202500.0   \n",
       "\n",
       "        AMT_ANNUITY  ...        OCCUPATION_TYPE CNT_FAM_MEMBERS  \\\n",
       "724          6750.0  ...             Core staff             4.0   \n",
       "5937        22500.0  ...  Private service staff             2.0   \n",
       "6425        10125.0  ...            Accountants             2.0   \n",
       "6703         9000.0  ...               Managers             3.0   \n",
       "7647        22500.0  ...         Security staff             1.0   \n",
       "...             ...  ...                    ...             ...   \n",
       "304678      10125.0  ...            Sales staff             4.0   \n",
       "304784      13500.0  ...                Drivers             3.0   \n",
       "305833      13500.0  ...             Core staff             1.0   \n",
       "306126      13500.0  ...                    NaN             2.0   \n",
       "306273      10125.0  ...               Laborers             4.0   \n",
       "\n",
       "       REG_REGION_NOT_LIVE_REGION REG_REGION_NOT_WORK_REGION  \\\n",
       "724                             0                          0   \n",
       "5937                            0                          0   \n",
       "6425                            0                          0   \n",
       "6703                            0                          0   \n",
       "7647                            0                          0   \n",
       "...                           ...                        ...   \n",
       "304678                          0                          0   \n",
       "304784                          0                          0   \n",
       "305833                          0                          0   \n",
       "306126                          0                          1   \n",
       "306273                          0                          0   \n",
       "\n",
       "       LIVE_REGION_NOT_WORK_REGION REG_CITY_NOT_LIVE_CITY  \\\n",
       "724                              0                      0   \n",
       "5937                             0                      0   \n",
       "6425                             0                      0   \n",
       "6703                             0                      0   \n",
       "7647                             0                      0   \n",
       "...                            ...                    ...   \n",
       "304678                           0                      1   \n",
       "304784                           0                      1   \n",
       "305833                           0                      0   \n",
       "306126                           1                      0   \n",
       "306273                           0                      0   \n",
       "\n",
       "        REG_CITY_NOT_WORK_CITY  LIVE_CITY_NOT_WORK_CITY  \\\n",
       "724                          0                        0   \n",
       "5937                         0                        0   \n",
       "6425                         0                        0   \n",
       "6703                         0                        0   \n",
       "7647                         0                        0   \n",
       "...                        ...                      ...   \n",
       "304678                       0                        1   \n",
       "304784                       1                        1   \n",
       "305833                       0                        0   \n",
       "306126                       1                        1   \n",
       "306273                       0                        0   \n",
       "\n",
       "             ORGANIZATION_TYPE  TARGET  \n",
       "724               Kindergarten       0  \n",
       "5937    Business Entity Type 3       0  \n",
       "6425             Trade: type 7       0  \n",
       "6703                Government       0  \n",
       "7647              Construction       0  \n",
       "...                        ...     ...  \n",
       "304678  Business Entity Type 3       0  \n",
       "304784           Self-employed       0  \n",
       "305833           Self-employed       0  \n",
       "306126                Security       0  \n",
       "306273           Self-employed       0  \n",
       "\n",
       "[278 rows x 37 columns]"
      ]
     },
     "execution_count": 8,
     "metadata": {},
     "output_type": "execute_result"
    }
   ],
   "source": [
    "df[df['AMT_GOODS_PRICE'].isnull()]"
   ]
  },
  {
   "cell_type": "code",
   "execution_count": 9,
   "id": "4a93646f",
   "metadata": {},
   "outputs": [
    {
     "data": {
      "text/html": [
       "<div>\n",
       "<style scoped>\n",
       "    .dataframe tbody tr th:only-of-type {\n",
       "        vertical-align: middle;\n",
       "    }\n",
       "\n",
       "    .dataframe tbody tr th {\n",
       "        vertical-align: top;\n",
       "    }\n",
       "\n",
       "    .dataframe thead th {\n",
       "        text-align: right;\n",
       "    }\n",
       "</style>\n",
       "<table border=\"1\" class=\"dataframe\">\n",
       "  <thead>\n",
       "    <tr style=\"text-align: right;\">\n",
       "      <th></th>\n",
       "      <th>AMT_GOODS_PRICE</th>\n",
       "      <th>NAME_CONTRACT_TYPE</th>\n",
       "    </tr>\n",
       "  </thead>\n",
       "  <tbody>\n",
       "    <tr>\n",
       "      <th>724</th>\n",
       "      <td>NaN</td>\n",
       "      <td>Revolving loans</td>\n",
       "    </tr>\n",
       "    <tr>\n",
       "      <th>5937</th>\n",
       "      <td>NaN</td>\n",
       "      <td>Revolving loans</td>\n",
       "    </tr>\n",
       "    <tr>\n",
       "      <th>6425</th>\n",
       "      <td>NaN</td>\n",
       "      <td>Revolving loans</td>\n",
       "    </tr>\n",
       "    <tr>\n",
       "      <th>6703</th>\n",
       "      <td>NaN</td>\n",
       "      <td>Revolving loans</td>\n",
       "    </tr>\n",
       "    <tr>\n",
       "      <th>7647</th>\n",
       "      <td>NaN</td>\n",
       "      <td>Revolving loans</td>\n",
       "    </tr>\n",
       "    <tr>\n",
       "      <th>...</th>\n",
       "      <td>...</td>\n",
       "      <td>...</td>\n",
       "    </tr>\n",
       "    <tr>\n",
       "      <th>304678</th>\n",
       "      <td>NaN</td>\n",
       "      <td>Revolving loans</td>\n",
       "    </tr>\n",
       "    <tr>\n",
       "      <th>304784</th>\n",
       "      <td>NaN</td>\n",
       "      <td>Revolving loans</td>\n",
       "    </tr>\n",
       "    <tr>\n",
       "      <th>305833</th>\n",
       "      <td>NaN</td>\n",
       "      <td>Revolving loans</td>\n",
       "    </tr>\n",
       "    <tr>\n",
       "      <th>306126</th>\n",
       "      <td>NaN</td>\n",
       "      <td>Revolving loans</td>\n",
       "    </tr>\n",
       "    <tr>\n",
       "      <th>306273</th>\n",
       "      <td>NaN</td>\n",
       "      <td>Revolving loans</td>\n",
       "    </tr>\n",
       "  </tbody>\n",
       "</table>\n",
       "<p>278 rows × 2 columns</p>\n",
       "</div>"
      ],
      "text/plain": [
       "        AMT_GOODS_PRICE NAME_CONTRACT_TYPE\n",
       "724                 NaN    Revolving loans\n",
       "5937                NaN    Revolving loans\n",
       "6425                NaN    Revolving loans\n",
       "6703                NaN    Revolving loans\n",
       "7647                NaN    Revolving loans\n",
       "...                 ...                ...\n",
       "304678              NaN    Revolving loans\n",
       "304784              NaN    Revolving loans\n",
       "305833              NaN    Revolving loans\n",
       "306126              NaN    Revolving loans\n",
       "306273              NaN    Revolving loans\n",
       "\n",
       "[278 rows x 2 columns]"
      ]
     },
     "execution_count": 9,
     "metadata": {},
     "output_type": "execute_result"
    }
   ],
   "source": [
    "loan_info = df[['AMT_GOODS_PRICE','NAME_CONTRACT_TYPE']]\n",
    "loan_info[(loan_info['AMT_GOODS_PRICE'].isnull()) & (loan_info['NAME_CONTRACT_TYPE']==\"Revolving loans\")]"
   ]
  },
  {
   "cell_type": "markdown",
   "id": "f85ed748",
   "metadata": {},
   "source": [
    "**NAME_TYPE_SUITE** <br>\n",
    "\n",
    "---\n",
    "Who was accompanying client when he was applying for the loan"
   ]
  },
  {
   "cell_type": "code",
   "execution_count": 10,
   "id": "47a5d1cf",
   "metadata": {},
   "outputs": [
    {
     "data": {
      "text/plain": [
       "Unaccompanied      248526\n",
       "Family              40149\n",
       "Spouse, partner     11370\n",
       "Children             3267\n",
       "Other_B              1770\n",
       "Other_A               866\n",
       "Group of people       271\n",
       "Name: NAME_TYPE_SUITE, dtype: int64"
      ]
     },
     "execution_count": 10,
     "metadata": {},
     "output_type": "execute_result"
    }
   ],
   "source": [
    "df['NAME_TYPE_SUITE'].value_counts()"
   ]
  },
  {
   "cell_type": "markdown",
   "id": "e0085bf6",
   "metadata": {},
   "source": [
    "**OWN_CAR_AGE** <br>\n",
    "\n",
    "---\n",
    "Age of client's car"
   ]
  },
  {
   "cell_type": "code",
   "execution_count": 11,
   "id": "99d688d5",
   "metadata": {
    "scrolled": true
   },
   "outputs": [
    {
     "data": {
      "text/html": [
       "<div>\n",
       "<style scoped>\n",
       "    .dataframe tbody tr th:only-of-type {\n",
       "        vertical-align: middle;\n",
       "    }\n",
       "\n",
       "    .dataframe tbody tr th {\n",
       "        vertical-align: top;\n",
       "    }\n",
       "\n",
       "    .dataframe thead th {\n",
       "        text-align: right;\n",
       "    }\n",
       "</style>\n",
       "<table border=\"1\" class=\"dataframe\">\n",
       "  <thead>\n",
       "    <tr style=\"text-align: right;\">\n",
       "      <th></th>\n",
       "      <th>FLAG_OWN_CAR</th>\n",
       "      <th>OWN_CAR_AGE</th>\n",
       "    </tr>\n",
       "  </thead>\n",
       "  <tbody>\n",
       "    <tr>\n",
       "      <th>0</th>\n",
       "      <td>N</td>\n",
       "      <td>NaN</td>\n",
       "    </tr>\n",
       "    <tr>\n",
       "      <th>1</th>\n",
       "      <td>N</td>\n",
       "      <td>NaN</td>\n",
       "    </tr>\n",
       "    <tr>\n",
       "      <th>3</th>\n",
       "      <td>N</td>\n",
       "      <td>NaN</td>\n",
       "    </tr>\n",
       "    <tr>\n",
       "      <th>4</th>\n",
       "      <td>N</td>\n",
       "      <td>NaN</td>\n",
       "    </tr>\n",
       "    <tr>\n",
       "      <th>5</th>\n",
       "      <td>N</td>\n",
       "      <td>NaN</td>\n",
       "    </tr>\n",
       "    <tr>\n",
       "      <th>...</th>\n",
       "      <td>...</td>\n",
       "      <td>...</td>\n",
       "    </tr>\n",
       "    <tr>\n",
       "      <th>307506</th>\n",
       "      <td>N</td>\n",
       "      <td>NaN</td>\n",
       "    </tr>\n",
       "    <tr>\n",
       "      <th>307507</th>\n",
       "      <td>N</td>\n",
       "      <td>NaN</td>\n",
       "    </tr>\n",
       "    <tr>\n",
       "      <th>307508</th>\n",
       "      <td>N</td>\n",
       "      <td>NaN</td>\n",
       "    </tr>\n",
       "    <tr>\n",
       "      <th>307509</th>\n",
       "      <td>N</td>\n",
       "      <td>NaN</td>\n",
       "    </tr>\n",
       "    <tr>\n",
       "      <th>307510</th>\n",
       "      <td>N</td>\n",
       "      <td>NaN</td>\n",
       "    </tr>\n",
       "  </tbody>\n",
       "</table>\n",
       "<p>202924 rows × 2 columns</p>\n",
       "</div>"
      ],
      "text/plain": [
       "       FLAG_OWN_CAR  OWN_CAR_AGE\n",
       "0                 N          NaN\n",
       "1                 N          NaN\n",
       "3                 N          NaN\n",
       "4                 N          NaN\n",
       "5                 N          NaN\n",
       "...             ...          ...\n",
       "307506            N          NaN\n",
       "307507            N          NaN\n",
       "307508            N          NaN\n",
       "307509            N          NaN\n",
       "307510            N          NaN\n",
       "\n",
       "[202924 rows x 2 columns]"
      ]
     },
     "execution_count": 11,
     "metadata": {},
     "output_type": "execute_result"
    }
   ],
   "source": [
    "car_ownership = df[['FLAG_OWN_CAR','OWN_CAR_AGE']]\n",
    "car_ownership[ car_ownership['OWN_CAR_AGE'].isnull() & (car_ownership['FLAG_OWN_CAR']=='N') ]"
   ]
  },
  {
   "cell_type": "code",
   "execution_count": 12,
   "id": "fb1d98e2",
   "metadata": {
    "scrolled": true
   },
   "outputs": [
    {
     "data": {
      "text/html": [
       "<div>\n",
       "<style scoped>\n",
       "    .dataframe tbody tr th:only-of-type {\n",
       "        vertical-align: middle;\n",
       "    }\n",
       "\n",
       "    .dataframe tbody tr th {\n",
       "        vertical-align: top;\n",
       "    }\n",
       "\n",
       "    .dataframe thead th {\n",
       "        text-align: right;\n",
       "    }\n",
       "</style>\n",
       "<table border=\"1\" class=\"dataframe\">\n",
       "  <thead>\n",
       "    <tr style=\"text-align: right;\">\n",
       "      <th></th>\n",
       "      <th>FLAG_OWN_CAR</th>\n",
       "      <th>OWN_CAR_AGE</th>\n",
       "    </tr>\n",
       "  </thead>\n",
       "  <tbody>\n",
       "    <tr>\n",
       "      <th>30897</th>\n",
       "      <td>Y</td>\n",
       "      <td>NaN</td>\n",
       "    </tr>\n",
       "    <tr>\n",
       "      <th>181231</th>\n",
       "      <td>Y</td>\n",
       "      <td>NaN</td>\n",
       "    </tr>\n",
       "    <tr>\n",
       "      <th>217549</th>\n",
       "      <td>Y</td>\n",
       "      <td>NaN</td>\n",
       "    </tr>\n",
       "    <tr>\n",
       "      <th>229867</th>\n",
       "      <td>Y</td>\n",
       "      <td>NaN</td>\n",
       "    </tr>\n",
       "    <tr>\n",
       "      <th>236868</th>\n",
       "      <td>Y</td>\n",
       "      <td>NaN</td>\n",
       "    </tr>\n",
       "  </tbody>\n",
       "</table>\n",
       "</div>"
      ],
      "text/plain": [
       "       FLAG_OWN_CAR  OWN_CAR_AGE\n",
       "30897             Y          NaN\n",
       "181231            Y          NaN\n",
       "217549            Y          NaN\n",
       "229867            Y          NaN\n",
       "236868            Y          NaN"
      ]
     },
     "execution_count": 12,
     "metadata": {},
     "output_type": "execute_result"
    }
   ],
   "source": [
    "car_ownership[ car_ownership['OWN_CAR_AGE'].isnull() & (car_ownership['FLAG_OWN_CAR']=='Y') ]"
   ]
  },
  {
   "cell_type": "markdown",
   "id": "07ad940d",
   "metadata": {},
   "source": [
    "**OCCUPATION_TYPE** <br>\n",
    "\n",
    "---\n",
    "What kind of occupation does the client have"
   ]
  },
  {
   "cell_type": "code",
   "execution_count": 15,
   "id": "f7117ea6",
   "metadata": {},
   "outputs": [
    {
     "data": {
      "text/html": [
       "<div>\n",
       "<style scoped>\n",
       "    .dataframe tbody tr th:only-of-type {\n",
       "        vertical-align: middle;\n",
       "    }\n",
       "\n",
       "    .dataframe tbody tr th {\n",
       "        vertical-align: top;\n",
       "    }\n",
       "\n",
       "    .dataframe thead th {\n",
       "        text-align: right;\n",
       "    }\n",
       "</style>\n",
       "<table border=\"1\" class=\"dataframe\">\n",
       "  <thead>\n",
       "    <tr style=\"text-align: right;\">\n",
       "      <th></th>\n",
       "      <th>NAME_INCOME_TYPE</th>\n",
       "      <th>OCCUPATION_TYPE</th>\n",
       "    </tr>\n",
       "  </thead>\n",
       "  <tbody>\n",
       "    <tr>\n",
       "      <th>8</th>\n",
       "      <td>Pensioner</td>\n",
       "      <td>NaN</td>\n",
       "    </tr>\n",
       "    <tr>\n",
       "      <th>28</th>\n",
       "      <td>State servant</td>\n",
       "      <td>NaN</td>\n",
       "    </tr>\n",
       "    <tr>\n",
       "      <th>30</th>\n",
       "      <td>Commercial associate</td>\n",
       "      <td>NaN</td>\n",
       "    </tr>\n",
       "    <tr>\n",
       "      <th>44</th>\n",
       "      <td>Working</td>\n",
       "      <td>NaN</td>\n",
       "    </tr>\n",
       "    <tr>\n",
       "      <th>1156</th>\n",
       "      <td>Unemployed</td>\n",
       "      <td>NaN</td>\n",
       "    </tr>\n",
       "    <tr>\n",
       "      <th>16818</th>\n",
       "      <td>Student</td>\n",
       "      <td>NaN</td>\n",
       "    </tr>\n",
       "    <tr>\n",
       "      <th>48949</th>\n",
       "      <td>Maternity leave</td>\n",
       "      <td>NaN</td>\n",
       "    </tr>\n",
       "    <tr>\n",
       "      <th>235450</th>\n",
       "      <td>Businessman</td>\n",
       "      <td>NaN</td>\n",
       "    </tr>\n",
       "  </tbody>\n",
       "</table>\n",
       "</div>"
      ],
      "text/plain": [
       "            NAME_INCOME_TYPE OCCUPATION_TYPE\n",
       "8                  Pensioner             NaN\n",
       "28             State servant             NaN\n",
       "30      Commercial associate             NaN\n",
       "44                   Working             NaN\n",
       "1156              Unemployed             NaN\n",
       "16818                Student             NaN\n",
       "48949        Maternity leave             NaN\n",
       "235450           Businessman             NaN"
      ]
     },
     "execution_count": 15,
     "metadata": {},
     "output_type": "execute_result"
    }
   ],
   "source": [
    "Occupation = df[['NAME_INCOME_TYPE', 'OCCUPATION_TYPE']]\n",
    "Occupation = Occupation.drop_duplicates()\n",
    "Occupation[ Occupation['OCCUPATION_TYPE'].isnull() ]"
   ]
  },
  {
   "cell_type": "code",
   "execution_count": 16,
   "id": "92e1655f",
   "metadata": {},
   "outputs": [
    {
     "data": {
      "text/plain": [
       "Laborers                 55186\n",
       "Sales staff              32102\n",
       "Core staff               27570\n",
       "Managers                 21371\n",
       "Drivers                  18603\n",
       "High skill tech staff    11380\n",
       "Accountants               9813\n",
       "Medicine staff            8537\n",
       "Security staff            6721\n",
       "Cooking staff             5946\n",
       "Cleaning staff            4653\n",
       "Private service staff     2652\n",
       "Low-skill Laborers        2093\n",
       "Waiters/barmen staff      1348\n",
       "Secretaries               1305\n",
       "Realty agents              751\n",
       "HR staff                   563\n",
       "IT staff                   526\n",
       "Name: OCCUPATION_TYPE, dtype: int64"
      ]
     },
     "execution_count": 16,
     "metadata": {},
     "output_type": "execute_result"
    }
   ],
   "source": [
    "df['OCCUPATION_TYPE'].value_counts()"
   ]
  },
  {
   "cell_type": "markdown",
   "id": "e91a99fd",
   "metadata": {},
   "source": [
    "**CNT_FAM_MEMBERS** <br>\n",
    "\n",
    "---\n",
    "How many family members does client have\n",
    "\n"
   ]
  },
  {
   "cell_type": "code",
   "execution_count": 28,
   "id": "08e0be87",
   "metadata": {
    "scrolled": true
   },
   "outputs": [
    {
     "data": {
      "text/html": [
       "<div>\n",
       "<style scoped>\n",
       "    .dataframe tbody tr th:only-of-type {\n",
       "        vertical-align: middle;\n",
       "    }\n",
       "\n",
       "    .dataframe tbody tr th {\n",
       "        vertical-align: top;\n",
       "    }\n",
       "\n",
       "    .dataframe thead th {\n",
       "        text-align: right;\n",
       "    }\n",
       "</style>\n",
       "<table border=\"1\" class=\"dataframe\">\n",
       "  <thead>\n",
       "    <tr style=\"text-align: right;\">\n",
       "      <th></th>\n",
       "      <th>CNT_CHILDREN</th>\n",
       "      <th>NAME_FAMILY_STATUS</th>\n",
       "      <th>CNT_FAM_MEMBERS</th>\n",
       "    </tr>\n",
       "  </thead>\n",
       "  <tbody>\n",
       "    <tr>\n",
       "      <th>41982</th>\n",
       "      <td>0</td>\n",
       "      <td>Unknown</td>\n",
       "      <td>NaN</td>\n",
       "    </tr>\n",
       "    <tr>\n",
       "      <th>187348</th>\n",
       "      <td>0</td>\n",
       "      <td>Unknown</td>\n",
       "      <td>NaN</td>\n",
       "    </tr>\n",
       "  </tbody>\n",
       "</table>\n",
       "</div>"
      ],
      "text/plain": [
       "        CNT_CHILDREN NAME_FAMILY_STATUS  CNT_FAM_MEMBERS\n",
       "41982              0            Unknown              NaN\n",
       "187348             0            Unknown              NaN"
      ]
     },
     "execution_count": 28,
     "metadata": {},
     "output_type": "execute_result"
    }
   ],
   "source": [
    "family_info = df[ ['CNT_CHILDREN','NAME_FAMILY_STATUS','CNT_FAM_MEMBERS'] ]\n",
    "family_info[ family_info['CNT_FAM_MEMBERS'].isnull() ]"
   ]
  },
  {
   "cell_type": "markdown",
   "id": "5f2308d8",
   "metadata": {},
   "source": [
    "![purple-divider](https://user-images.githubusercontent.com/7065401/52071927-c1cd7100-2562-11e9-908a-dde91ba14e59.png)\n",
    "### Dealing with null values\n",
    "\n",
    "---\n",
    "Now that we know more about our dataset and columns with nulls, let's strategise how to handle them\n",
    "\n",
    "| Column | Strategy | Justification |\n",
    "| ----------- | ----------- | ----------- |\n",
    "| AMT_ANNUITY | mean | very few nulls, safe to go with mean so we don't skew our data |\n",
    "| AMT_GOODS_PRICE | mean | safe |\n",
    "| NAME_TYPE_SUITE | mode | the most frequent value is most likely (unaccompanied) |\n",
    "| OWN_CAR_AGE | 0 | if (FLAG_OWN_CAR = N) else 0 |\n",
    "| OCCUPATION_TYPE | not sure | |\n",
    "| CNT_FAM_MEMBERS | 0 | NAME_FAMILY_STATUS = unknown |\n"
   ]
  },
  {
   "cell_type": "code",
   "execution_count": 29,
   "id": "bde83e07",
   "metadata": {},
   "outputs": [],
   "source": [
    "df = df.fillna({'AMT_ANNUITY': df['AMT_ANNUITY'].mean(), 'AMT_GOODS_PRICE': df['AMT_GOODS_PRICE'].mean(), 'NAME_TYPE_SUITE': df['NAME_TYPE_SUITE'].mode()[0], 'OWN_CAR_AGE': 0, 'CNT_FAM_MEMBERS': 0})"
   ]
  },
  {
   "cell_type": "code",
   "execution_count": 30,
   "id": "f54ff8d4",
   "metadata": {},
   "outputs": [
    {
     "data": {
      "text/plain": [
       "SK_ID_CURR                     False\n",
       "Unnamed: 1                      True\n",
       "NAME_CONTRACT_TYPE             False\n",
       "CODE_GENDER                    False\n",
       "FLAG_OWN_CAR                   False\n",
       "FLAG_OWN_REALTY                False\n",
       "CNT_CHILDREN                   False\n",
       "AMT_INCOME_TOTAL               False\n",
       "AMT_CREDIT                     False\n",
       "AMT_ANNUITY                    False\n",
       "AMT_GOODS_PRICE                False\n",
       "NAME_TYPE_SUITE                False\n",
       "NAME_INCOME_TYPE               False\n",
       "NAME_EDUCATION_TYPE            False\n",
       "NAME_FAMILY_STATUS             False\n",
       "NAME_HOUSING_TYPE              False\n",
       "DAYS_BIRTH                     False\n",
       "DAYS_EMPLOYED                  False\n",
       "DAYS_REGISTRATION              False\n",
       "DAYS_ID_PUBLISH                False\n",
       "OWN_CAR_AGE                    False\n",
       "FLAG_MOBIL                     False\n",
       "FLAG_EMP_PHONE                 False\n",
       "FLAG_WORK_PHONE                False\n",
       "FLAG_CONT_MOBILE               False\n",
       "FLAG_PHONE                     False\n",
       "FLAG_EMAIL                     False\n",
       "OCCUPATION_TYPE                 True\n",
       "CNT_FAM_MEMBERS                False\n",
       "REG_REGION_NOT_LIVE_REGION     False\n",
       "REG_REGION_NOT_WORK_REGION     False\n",
       "LIVE_REGION_NOT_WORK_REGION    False\n",
       "REG_CITY_NOT_LIVE_CITY         False\n",
       "REG_CITY_NOT_WORK_CITY         False\n",
       "LIVE_CITY_NOT_WORK_CITY        False\n",
       "ORGANIZATION_TYPE              False\n",
       "TARGET                         False\n",
       "dtype: bool"
      ]
     },
     "execution_count": 30,
     "metadata": {},
     "output_type": "execute_result"
    }
   ],
   "source": [
    "#check which columns have null values\n",
    "df.isnull().any()"
   ]
  },
  {
   "cell_type": "markdown",
   "id": "76650e8c",
   "metadata": {},
   "source": [
    "### Now let's check the dataset for any non-null outliers which might skew our data\n",
    "---"
   ]
  },
  {
   "cell_type": "markdown",
   "id": "f4e0d0cf",
   "metadata": {},
   "source": [
    "We need to look for numerical columns in our dataset and check if there are any outliers in the data"
   ]
  },
  {
   "cell_type": "code",
   "execution_count": 31,
   "id": "cd5c313d",
   "metadata": {
    "scrolled": true
   },
   "outputs": [
    {
     "data": {
      "text/html": [
       "<div>\n",
       "<style scoped>\n",
       "    .dataframe tbody tr th:only-of-type {\n",
       "        vertical-align: middle;\n",
       "    }\n",
       "\n",
       "    .dataframe tbody tr th {\n",
       "        vertical-align: top;\n",
       "    }\n",
       "\n",
       "    .dataframe thead th {\n",
       "        text-align: right;\n",
       "    }\n",
       "</style>\n",
       "<table border=\"1\" class=\"dataframe\">\n",
       "  <thead>\n",
       "    <tr style=\"text-align: right;\">\n",
       "      <th></th>\n",
       "      <th>SK_ID_CURR</th>\n",
       "      <th>Unnamed: 1</th>\n",
       "      <th>NAME_CONTRACT_TYPE</th>\n",
       "      <th>CODE_GENDER</th>\n",
       "      <th>FLAG_OWN_CAR</th>\n",
       "      <th>FLAG_OWN_REALTY</th>\n",
       "      <th>CNT_CHILDREN</th>\n",
       "      <th>AMT_INCOME_TOTAL</th>\n",
       "      <th>AMT_CREDIT</th>\n",
       "      <th>AMT_ANNUITY</th>\n",
       "      <th>...</th>\n",
       "      <th>OCCUPATION_TYPE</th>\n",
       "      <th>CNT_FAM_MEMBERS</th>\n",
       "      <th>REG_REGION_NOT_LIVE_REGION</th>\n",
       "      <th>REG_REGION_NOT_WORK_REGION</th>\n",
       "      <th>LIVE_REGION_NOT_WORK_REGION</th>\n",
       "      <th>REG_CITY_NOT_LIVE_CITY</th>\n",
       "      <th>REG_CITY_NOT_WORK_CITY</th>\n",
       "      <th>LIVE_CITY_NOT_WORK_CITY</th>\n",
       "      <th>ORGANIZATION_TYPE</th>\n",
       "      <th>TARGET</th>\n",
       "    </tr>\n",
       "  </thead>\n",
       "  <tbody>\n",
       "    <tr>\n",
       "      <th>0</th>\n",
       "      <td>100002</td>\n",
       "      <td>NaN</td>\n",
       "      <td>Cash loans</td>\n",
       "      <td>M</td>\n",
       "      <td>N</td>\n",
       "      <td>Y</td>\n",
       "      <td>0</td>\n",
       "      <td>202500.0</td>\n",
       "      <td>406597.5</td>\n",
       "      <td>24700.5</td>\n",
       "      <td>...</td>\n",
       "      <td>Laborers</td>\n",
       "      <td>1.0</td>\n",
       "      <td>0</td>\n",
       "      <td>0</td>\n",
       "      <td>0</td>\n",
       "      <td>0</td>\n",
       "      <td>0</td>\n",
       "      <td>0</td>\n",
       "      <td>Business Entity Type 3</td>\n",
       "      <td>1</td>\n",
       "    </tr>\n",
       "    <tr>\n",
       "      <th>1</th>\n",
       "      <td>100003</td>\n",
       "      <td>NaN</td>\n",
       "      <td>Cash loans</td>\n",
       "      <td>F</td>\n",
       "      <td>N</td>\n",
       "      <td>N</td>\n",
       "      <td>0</td>\n",
       "      <td>270000.0</td>\n",
       "      <td>1293502.5</td>\n",
       "      <td>35698.5</td>\n",
       "      <td>...</td>\n",
       "      <td>Core staff</td>\n",
       "      <td>2.0</td>\n",
       "      <td>0</td>\n",
       "      <td>0</td>\n",
       "      <td>0</td>\n",
       "      <td>0</td>\n",
       "      <td>0</td>\n",
       "      <td>0</td>\n",
       "      <td>School</td>\n",
       "      <td>0</td>\n",
       "    </tr>\n",
       "    <tr>\n",
       "      <th>2</th>\n",
       "      <td>100004</td>\n",
       "      <td>NaN</td>\n",
       "      <td>Revolving loans</td>\n",
       "      <td>M</td>\n",
       "      <td>Y</td>\n",
       "      <td>Y</td>\n",
       "      <td>0</td>\n",
       "      <td>67500.0</td>\n",
       "      <td>135000.0</td>\n",
       "      <td>6750.0</td>\n",
       "      <td>...</td>\n",
       "      <td>Laborers</td>\n",
       "      <td>1.0</td>\n",
       "      <td>0</td>\n",
       "      <td>0</td>\n",
       "      <td>0</td>\n",
       "      <td>0</td>\n",
       "      <td>0</td>\n",
       "      <td>0</td>\n",
       "      <td>Government</td>\n",
       "      <td>0</td>\n",
       "    </tr>\n",
       "    <tr>\n",
       "      <th>3</th>\n",
       "      <td>100006</td>\n",
       "      <td>NaN</td>\n",
       "      <td>Cash loans</td>\n",
       "      <td>F</td>\n",
       "      <td>N</td>\n",
       "      <td>Y</td>\n",
       "      <td>0</td>\n",
       "      <td>135000.0</td>\n",
       "      <td>312682.5</td>\n",
       "      <td>29686.5</td>\n",
       "      <td>...</td>\n",
       "      <td>Laborers</td>\n",
       "      <td>2.0</td>\n",
       "      <td>0</td>\n",
       "      <td>0</td>\n",
       "      <td>0</td>\n",
       "      <td>0</td>\n",
       "      <td>0</td>\n",
       "      <td>0</td>\n",
       "      <td>Business Entity Type 3</td>\n",
       "      <td>0</td>\n",
       "    </tr>\n",
       "    <tr>\n",
       "      <th>4</th>\n",
       "      <td>100007</td>\n",
       "      <td>NaN</td>\n",
       "      <td>Cash loans</td>\n",
       "      <td>M</td>\n",
       "      <td>N</td>\n",
       "      <td>Y</td>\n",
       "      <td>0</td>\n",
       "      <td>121500.0</td>\n",
       "      <td>513000.0</td>\n",
       "      <td>21865.5</td>\n",
       "      <td>...</td>\n",
       "      <td>Core staff</td>\n",
       "      <td>1.0</td>\n",
       "      <td>0</td>\n",
       "      <td>0</td>\n",
       "      <td>0</td>\n",
       "      <td>0</td>\n",
       "      <td>1</td>\n",
       "      <td>1</td>\n",
       "      <td>Religion</td>\n",
       "      <td>0</td>\n",
       "    </tr>\n",
       "  </tbody>\n",
       "</table>\n",
       "<p>5 rows × 37 columns</p>\n",
       "</div>"
      ],
      "text/plain": [
       "   SK_ID_CURR  Unnamed: 1 NAME_CONTRACT_TYPE CODE_GENDER FLAG_OWN_CAR  \\\n",
       "0      100002         NaN         Cash loans           M            N   \n",
       "1      100003         NaN         Cash loans           F            N   \n",
       "2      100004         NaN    Revolving loans           M            Y   \n",
       "3      100006         NaN         Cash loans           F            N   \n",
       "4      100007         NaN         Cash loans           M            N   \n",
       "\n",
       "  FLAG_OWN_REALTY  CNT_CHILDREN  AMT_INCOME_TOTAL  AMT_CREDIT  AMT_ANNUITY  \\\n",
       "0               Y             0          202500.0    406597.5      24700.5   \n",
       "1               N             0          270000.0   1293502.5      35698.5   \n",
       "2               Y             0           67500.0    135000.0       6750.0   \n",
       "3               Y             0          135000.0    312682.5      29686.5   \n",
       "4               Y             0          121500.0    513000.0      21865.5   \n",
       "\n",
       "   ...  OCCUPATION_TYPE CNT_FAM_MEMBERS REG_REGION_NOT_LIVE_REGION  \\\n",
       "0  ...         Laborers             1.0                          0   \n",
       "1  ...       Core staff             2.0                          0   \n",
       "2  ...         Laborers             1.0                          0   \n",
       "3  ...         Laborers             2.0                          0   \n",
       "4  ...       Core staff             1.0                          0   \n",
       "\n",
       "  REG_REGION_NOT_WORK_REGION LIVE_REGION_NOT_WORK_REGION  \\\n",
       "0                          0                           0   \n",
       "1                          0                           0   \n",
       "2                          0                           0   \n",
       "3                          0                           0   \n",
       "4                          0                           0   \n",
       "\n",
       "  REG_CITY_NOT_LIVE_CITY  REG_CITY_NOT_WORK_CITY  LIVE_CITY_NOT_WORK_CITY  \\\n",
       "0                      0                       0                        0   \n",
       "1                      0                       0                        0   \n",
       "2                      0                       0                        0   \n",
       "3                      0                       0                        0   \n",
       "4                      0                       1                        1   \n",
       "\n",
       "        ORGANIZATION_TYPE  TARGET  \n",
       "0  Business Entity Type 3       1  \n",
       "1                  School       0  \n",
       "2              Government       0  \n",
       "3  Business Entity Type 3       0  \n",
       "4                Religion       0  \n",
       "\n",
       "[5 rows x 37 columns]"
      ]
     },
     "execution_count": 31,
     "metadata": {},
     "output_type": "execute_result"
    }
   ],
   "source": [
    "df.head()"
   ]
  },
  {
   "cell_type": "code",
   "execution_count": 33,
   "id": "13b57f95",
   "metadata": {},
   "outputs": [
    {
     "data": {
      "text/plain": [
       "<AxesSubplot:xlabel='AMT_GOODS_PRICE'>"
      ]
     },
     "execution_count": 33,
     "metadata": {},
     "output_type": "execute_result"
    },
    {
     "data": {
      "image/png": "[encoded data removed]",
      "text/plain": [
       "<Figure size 432x288 with 1 Axes>"
      ]
     },
     "metadata": {},
     "output_type": "display_data"
    }
   ],
   "source": [
    "# Box Plot\n",
    "sns.boxplot(x = df['AMT_GOODS_PRICE'])"
   ]
  },
  {
   "cell_type": "code",
   "execution_count": 34,
   "id": "0fb18f63",
   "metadata": {
    "scrolled": true
   },
   "outputs": [
    {
     "data": {
      "text/plain": [
       "0     215371\n",
       "1      61119\n",
       "2      26749\n",
       "3       3717\n",
       "4        429\n",
       "5         84\n",
       "6         21\n",
       "7          7\n",
       "14         3\n",
       "8          2\n",
       "9          2\n",
       "12         2\n",
       "10         2\n",
       "19         2\n",
       "11         1\n",
       "Name: CNT_CHILDREN, dtype: int64"
      ]
     },
     "execution_count": 34,
     "metadata": {},
     "output_type": "execute_result"
    }
   ],
   "source": [
    "df['CNT_CHILDREN'].value_counts()"
   ]
  },
  {
   "cell_type": "code",
   "execution_count": 35,
   "id": "42ce625f",
   "metadata": {},
   "outputs": [
    {
     "data": {
      "text/plain": [
       "<AxesSubplot:xlabel='CNT_CHILDREN'>"
      ]
     },
     "execution_count": 35,
     "metadata": {},
     "output_type": "execute_result"
    },
    {
     "data": {
      "image/png": "[encoded data removed]",
      "text/plain": [
       "<Figure size 432x288 with 1 Axes>"
      ]
     },
     "metadata": {},
     "output_type": "display_data"
    }
   ],
   "source": [
    "sns.boxplot(x = df['CNT_CHILDREN'])"
   ]
  },
  {
   "cell_type": "markdown",
   "id": "15701256",
   "metadata": {},
   "source": [
    "Here we see that values of CNT_CHILDREN > 2.5 are outliers as they are above the \"maximum\""
   ]
  },
  {
   "cell_type": "code",
   "execution_count": 36,
   "id": "a5ce5a9a",
   "metadata": {},
   "outputs": [
    {
     "data": {
      "text/plain": [
       "count    3.075110e+05\n",
       "mean     1.687979e+05\n",
       "std      2.371231e+05\n",
       "min      2.565000e+04\n",
       "25%      1.125000e+05\n",
       "50%      1.471500e+05\n",
       "75%      2.025000e+05\n",
       "max      1.170000e+08\n",
       "Name: AMT_INCOME_TOTAL, dtype: float64"
      ]
     },
     "execution_count": 36,
     "metadata": {},
     "output_type": "execute_result"
    }
   ],
   "source": [
    "df['AMT_INCOME_TOTAL'].describe()"
   ]
  },
  {
   "cell_type": "code",
   "execution_count": 37,
   "id": "4e7319f9",
   "metadata": {},
   "outputs": [
    {
     "data": {
      "image/png": "[encoded data removed]",
      "text/plain": [
       "<Figure size 432x288 with 1 Axes>"
      ]
     },
     "metadata": {},
     "output_type": "display_data"
    }
   ],
   "source": [
    "# Box Plot\n",
    "sns.boxplot(x = df['AMT_INCOME_TOTAL'])\n",
    "# figure size in inches\n",
    "sns.set(rc={'figure.figsize':(6,4)})"
   ]
  },
  {
   "cell_type": "code",
   "execution_count": 38,
   "id": "9606e12e",
   "metadata": {},
   "outputs": [
    {
     "data": {
      "text/plain": [
       "count    3.075110e+05\n",
       "mean     5.990260e+05\n",
       "std      4.024908e+05\n",
       "min      4.500000e+04\n",
       "25%      2.700000e+05\n",
       "50%      5.135310e+05\n",
       "75%      8.086500e+05\n",
       "max      4.050000e+06\n",
       "Name: AMT_CREDIT, dtype: float64"
      ]
     },
     "execution_count": 38,
     "metadata": {},
     "output_type": "execute_result"
    }
   ],
   "source": [
    "df['AMT_CREDIT'].describe()"
   ]
  },
  {
   "cell_type": "code",
   "execution_count": 39,
   "id": "b9b34833",
   "metadata": {},
   "outputs": [
    {
     "data": {
      "text/plain": [
       "<AxesSubplot:xlabel='AMT_CREDIT'>"
      ]
     },
     "execution_count": 39,
     "metadata": {},
     "output_type": "execute_result"
    },
    {
     "data": {
      "image/png": "[encoded data removed]",
      "text/plain": [
       "<Figure size 432x288 with 1 Axes>"
      ]
     },
     "metadata": {},
     "output_type": "display_data"
    }
   ],
   "source": [
    "# Box Plot\n",
    "sns.boxplot(x = df['AMT_CREDIT'])"
   ]
  },
  {
   "cell_type": "code",
   "execution_count": 32,
   "id": "e4b2132b",
   "metadata": {
    "scrolled": true
   },
   "outputs": [
    {
     "data": {
      "text/plain": [
       "<AxesSubplot:xlabel='AMT_ANNUITY'>"
      ]
     },
     "execution_count": 32,
     "metadata": {},
     "output_type": "execute_result"
    },
    {
     "data": {
      "image/png": "[encoded data removed]",
      "text/plain": [
       "<Figure size 432x288 with 1 Axes>"
      ]
     },
     "metadata": {},
     "output_type": "display_data"
    }
   ],
   "source": [
    "# Box Plot\n",
    "sns.boxplot(x = df['AMT_ANNUITY'])"
   ]
  },
  {
   "cell_type": "markdown",
   "id": "58bdfacf",
   "metadata": {},
   "source": [
    "![purple-divider](https://user-images.githubusercontent.com/7065401/52071927-c1cd7100-2562-11e9-908a-dde91ba14e59.png)\n",
    "### Dealing with non-null values\n",
    "\n",
    "---\n",
    "Now that we know more about our dataset and columns with outliers, let's write a function that's going to deal with these for us\n"
   ]
  },
  {
   "cell_type": "markdown",
   "id": "da792b67",
   "metadata": {},
   "source": [
    "![Box plot example](box_plot.png)"
   ]
  },
  {
   "cell_type": "markdown",
   "id": "565fc04f",
   "metadata": {},
   "source": [
    "We see that there are quite a few outliers in the data. Before we fill our numerical columns with mean or median, we need to make sure there are no outliers in the data so the data isn't skewed."
   ]
  },
  {
   "cell_type": "code",
   "execution_count": 49,
   "id": "1d82c447",
   "metadata": {},
   "outputs": [
    {
     "data": {
      "text/plain": [
       "<AxesSubplot:xlabel='AMT_GOODS_PRICE'>"
      ]
     },
     "execution_count": 49,
     "metadata": {},
     "output_type": "execute_result"
    },
    {
     "data": {
      "image/png": "[encoded data removed]",
      "text/plain": [
       "<Figure size 432x288 with 1 Axes>"
      ]
     },
     "metadata": {},
     "output_type": "display_data"
    }
   ],
   "source": [
    "Q1 = df[\"AMT_GOODS_PRICE\"].quantile(0.25)\n",
    "Q3 = df[\"AMT_GOODS_PRICE\"].quantile(0.75)\n",
    "\n",
    "IQR = Q3 - Q1\n",
    "\n",
    "q_low = Q1 - 1.5*IQR\n",
    "q_hi  = Q3 + 1.5*IQR\n",
    "\n",
    "df_filtered = df[(df[\"AMT_GOODS_PRICE\"] < q_hi) & (df[\"AMT_GOODS_PRICE\"] > q_low)]\n",
    "\n",
    "sns.boxplot(x = df_filtered['AMT_GOODS_PRICE'])\n",
    "\n",
    "#data = [df,df_filtered]\n",
    "\n",
    "#ax = [ df[\"AMT_GOODS_PRICE\"], df_filtered['AMT_GOODS_PRICE'] ].plot(kind='box', title='boxplot')\n"
   ]
  },
  {
   "cell_type": "code",
   "execution_count": 51,
   "id": "b369b95e",
   "metadata": {},
   "outputs": [
    {
     "data": {
      "text/plain": [
       "<AxesSubplot:xlabel='CNT_CHILDREN'>"
      ]
     },
     "execution_count": 51,
     "metadata": {},
     "output_type": "execute_result"
    },
    {
     "data": {
      "image/png": "[encoded data removed]",
      "text/plain": [
       "<Figure size 432x288 with 1 Axes>"
      ]
     },
     "metadata": {},
     "output_type": "display_data"
    }
   ],
   "source": [
    "Q1 = df[\"CNT_CHILDREN\"].quantile(0.25)\n",
    "Q3 = df[\"CNT_CHILDREN\"].quantile(0.75)\n",
    "\n",
    "IQR = Q3 - Q1\n",
    "\n",
    "q_low = Q1 - 1.5*IQR\n",
    "q_hi  = Q3 + 1.5*IQR\n",
    "\n",
    "df_filtered = df[(df[\"CNT_CHILDREN\"] < q_hi) & (df[\"CNT_CHILDREN\"] > q_low)]\n",
    "\n",
    "sns.boxplot(x = df_filtered['CNT_CHILDREN'])\n",
    "\n",
    "#data = [df,df_filtered]\n",
    "\n",
    "#ax = [ df[\"AMT_GOODS_PRICE\"], df_filtered['AMT_GOODS_PRICE'] ].plot(kind='box', title='boxplot')\n"
   ]
  },
  {
   "cell_type": "code",
   "execution_count": 52,
   "id": "7106977a",
   "metadata": {},
   "outputs": [
    {
     "data": {
      "text/plain": [
       "<AxesSubplot:xlabel='AMT_INCOME_TOTAL'>"
      ]
     },
     "execution_count": 52,
     "metadata": {},
     "output_type": "execute_result"
    },
    {
     "data": {
      "image/png": "[encoded data removed]",
      "text/plain": [
       "<Figure size 432x288 with 1 Axes>"
      ]
     },
     "metadata": {},
     "output_type": "display_data"
    }
   ],
   "source": [
    "Q1 = df[\"AMT_INCOME_TOTAL\"].quantile(0.25)\n",
    "Q3 = df[\"AMT_INCOME_TOTAL\"].quantile(0.75)\n",
    "\n",
    "IQR = Q3 - Q1\n",
    "\n",
    "q_low = Q1 - 1.5*IQR\n",
    "q_hi  = Q3 + 1.5*IQR\n",
    "\n",
    "df_filtered = df[(df[\"AMT_INCOME_TOTAL\"] < q_hi) & (df[\"AMT_INCOME_TOTAL\"] > q_low)]\n",
    "\n",
    "sns.boxplot(x = df_filtered['AMT_INCOME_TOTAL'])\n",
    "\n",
    "#data = [df,df_filtered]\n",
    "\n",
    "#ax = [ df[\"AMT_GOODS_PRICE\"], df_filtered['AMT_GOODS_PRICE'] ].plot(kind='box', title='boxplot')\n"
   ]
  },
  {
   "cell_type": "code",
   "execution_count": 53,
   "id": "b209bffe",
   "metadata": {},
   "outputs": [
    {
     "data": {
      "text/plain": [
       "<AxesSubplot:xlabel='AMT_CREDIT'>"
      ]
     },
     "execution_count": 53,
     "metadata": {},
     "output_type": "execute_result"
    },
    {
     "data": {
      "image/png": "[encoded data removed]",
      "text/plain": [
       "<Figure size 432x288 with 1 Axes>"
      ]
     },
     "metadata": {},
     "output_type": "display_data"
    }
   ],
   "source": [
    "Q1 = df[\"AMT_CREDIT\"].quantile(0.25)\n",
    "Q3 = df[\"AMT_CREDIT\"].quantile(0.75)\n",
    "\n",
    "IQR = Q3 - Q1\n",
    "\n",
    "q_low = Q1 - 1.5*IQR\n",
    "q_hi  = Q3 + 1.5*IQR\n",
    "\n",
    "df_filtered = df[(df[\"AMT_CREDIT\"] < q_hi) & (df[\"AMT_CREDIT\"] > q_low)]\n",
    "\n",
    "sns.boxplot(x = df_filtered['AMT_CREDIT'])\n",
    "\n",
    "#data = [df,df_filtered]\n",
    "\n",
    "#ax = [ df[\"AMT_GOODS_PRICE\"], df_filtered['AMT_GOODS_PRICE'] ].plot(kind='box', title='boxplot')\n"
   ]
  },
  {
   "cell_type": "code",
   "execution_count": 50,
   "id": "ed7f669c",
   "metadata": {},
   "outputs": [
    {
     "data": {
      "text/plain": [
       "<AxesSubplot:xlabel='AMT_ANNUITY'>"
      ]
     },
     "execution_count": 50,
     "metadata": {},
     "output_type": "execute_result"
    },
    {
     "data": {
      "image/png": "[encoded data removed]",
      "text/plain": [
       "<Figure size 432x288 with 1 Axes>"
      ]
     },
     "metadata": {},
     "output_type": "display_data"
    }
   ],
   "source": [
    "Q1 = df[\"AMT_ANNUITY\"].quantile(0.25)\n",
    "Q3 = df[\"AMT_ANNUITY\"].quantile(0.75)\n",
    "\n",
    "IQR = Q3 - Q1\n",
    "\n",
    "q_low = Q1 - 1.5*IQR\n",
    "q_hi  = Q3 + 1.5*IQR\n",
    "\n",
    "df_filtered = df[(df[\"AMT_ANNUITY\"] < q_hi) & (df[\"AMT_ANNUITY\"] > q_low)]\n",
    "\n",
    "sns.boxplot(x = df_filtered['AMT_ANNUITY'])\n",
    "\n",
    "#data = [df,df_filtered]\n",
    "\n",
    "#ax = [ df[\"AMT_GOODS_PRICE\"], df_filtered['AMT_GOODS_PRICE'] ].plot(kind='box', title='boxplot')\n"
   ]
  },
  {
   "cell_type": "code",
   "execution_count": 55,
   "id": "06f5a214",
   "metadata": {},
   "outputs": [
    {
     "data": {
      "text/plain": [
       "(27108.573909183444, 26365.50507689645)"
      ]
     },
     "execution_count": 55,
     "metadata": {},
     "output_type": "execute_result"
    }
   ],
   "source": [
    "df[\"AMT_ANNUITY\"].mean(),df_filtered['AMT_ANNUITY'].mean()"
   ]
  }
 ],
 "metadata": {
  "kernelspec": {
   "display_name": "Python 3",
   "language": "python",
   "name": "python3"
  },
  "language_info": {
   "codemirror_mode": {
    "name": "ipython",
    "version": 3
   },
   "file_extension": ".py",
   "mimetype": "text/x-python",
   "name": "python",
   "nbconvert_exporter": "python",
   "pygments_lexer": "ipython3",
   "version": "3.8.11"
  }
 },
 "nbformat": 4,
 "nbformat_minor": 5
}
